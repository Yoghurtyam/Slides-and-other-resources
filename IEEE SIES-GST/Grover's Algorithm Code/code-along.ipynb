{
 "cells": [
  {
   "cell_type": "markdown",
   "metadata": {},
   "source": [
    "# Building a Quantum Random Number Generator (QRNG)\n",
    "\n",
    "Multiple methods are used to build QRNG's in industry and today we will build a primitive one using just one Hadamard Gate, i.e, the [`H Gate`](https://qiskit.org/textbook/ch-states/single-qubit-gates.html#hgate) on a simulator. \n",
    "\n",
    "First, let's import what we require from qiskit:"
   ]
  },
  {
   "cell_type": "code",
   "execution_count": 8,
   "metadata": {},
   "outputs": [],
   "source": [
    "#initialization\n",
    "import matplotlib.pyplot as plt\n",
    "%matplotlib inline\n",
    "import numpy as np\n",
    "\n",
    "# importing Qiskit\n",
    "from qiskit import IBMQ, BasicAer, Aer\n",
    "from qiskit.providers.ibmq import least_busy\n",
    "from qiskit import QuantumCircuit, ClassicalRegister, QuantumRegister, execute\n",
    "\n",
    "# import basic plot tools\n",
    "from qiskit.tools.visualization import plot_histogram"
   ]
  },
  {
   "cell_type": "markdown",
   "metadata": {},
   "source": [
    "You can ignore the next two lines of code. This will be required when you want to try the QRNG you build on a real device. We'll get to that later. "
   ]
  },
  {
   "cell_type": "code",
   "execution_count": 9,
   "metadata": {},
   "outputs": [],
   "source": [
    "# IBMQ.save_account('YOUR_IBM_TOKEN') # you can find your account id on the IBm Quantum Experience website\n",
    "                                       # in your profile section "
   ]
  },
  {
   "cell_type": "code",
   "execution_count": 10,
   "metadata": {},
   "outputs": [],
   "source": [
    "# provider = IBMQ.load_account()"
   ]
  },
  {
   "cell_type": "code",
   "execution_count": 11,
   "metadata": {},
   "outputs": [
    {
     "data": {
      "text/html": [
       "<pre style=\"word-wrap: normal;white-space: pre;background: #fff0;line-height: 1.1;font-family: &quot;Courier New&quot;,Courier,monospace\">      \n",
       "q1_0: \n",
       "      \n",
       "c1: 1/\n",
       "      </pre>"
      ],
      "text/plain": [
       "      \n",
       "q1_0: \n",
       "      \n",
       "c1: 1/\n",
       "      "
      ]
     },
     "execution_count": 11,
     "metadata": {},
     "output_type": "execute_result"
    }
   ],
   "source": [
    "q2 = QuantumRegister(1)\n",
    "c2 = ClassicalRegister(1)\n",
    "qc2 = QuantumCircuit(q2, c2)\n",
    "qc2.draw()"
   ]
  },
  {
   "cell_type": "markdown",
   "metadata": {},
   "source": [
    "Now apply a hadamard gate to put the first qubit into a $|+\\rangle$ state. Where, \n",
    "$$ |+\\rangle = \\frac{|0\\rangle + |1\\rangle}{\\sqrt{2}}$$"
   ]
  },
  {
   "cell_type": "code",
   "execution_count": 12,
   "metadata": {},
   "outputs": [
    {
     "data": {
      "text/html": [
       "<pre style=\"word-wrap: normal;white-space: pre;background: #fff0;line-height: 1.1;font-family: &quot;Courier New&quot;,Courier,monospace\">      ┌───┐\n",
       "q1_0: ┤ H ├\n",
       "      └───┘\n",
       "c1: 1/═════\n",
       "           </pre>"
      ],
      "text/plain": [
       "      ┌───┐\n",
       "q1_0: ┤ H ├\n",
       "      └───┘\n",
       "c1: 1/═════\n",
       "           "
      ]
     },
     "execution_count": 12,
     "metadata": {},
     "output_type": "execute_result"
    }
   ],
   "source": [
    "qc2.h(0)\n",
    "qc2.draw()"
   ]
  },
  {
   "cell_type": "markdown",
   "metadata": {},
   "source": [
    "We only get results when we measure the qubit and then read that clasical data, which in our case is then store in our classical register `c2`."
   ]
  },
  {
   "cell_type": "code",
   "execution_count": 13,
   "metadata": {},
   "outputs": [
    {
     "data": {
      "text/html": [
       "<pre style=\"word-wrap: normal;white-space: pre;background: #fff0;line-height: 1.1;font-family: &quot;Courier New&quot;,Courier,monospace\">      ┌───┐┌─┐\n",
       "q1_0: ┤ H ├┤M├\n",
       "      └───┘└╥┘\n",
       "c1: 1/══════╩═\n",
       "            0 </pre>"
      ],
      "text/plain": [
       "      ┌───┐┌─┐\n",
       "q1_0: ┤ H ├┤M├\n",
       "      └───┘└╥┘\n",
       "c1: 1/══════╩═\n",
       "            0 "
      ]
     },
     "execution_count": 13,
     "metadata": {},
     "output_type": "execute_result"
    }
   ],
   "source": [
    "qc2.measure(q2[0], c2[0])\n",
    "qc2.draw()"
   ]
  },
  {
   "cell_type": "code",
   "execution_count": 34,
   "metadata": {},
   "outputs": [
    {
     "name": "stdout",
     "output_type": "stream",
     "text": [
      "{'1': 1}\n"
     ]
    }
   ],
   "source": [
    "# running and getting results \n",
    "\n",
    "backend = Aer.get_backend('qasm_simulator')\n",
    "job = execute(qc2, backend, shots=1)\n",
    "# backend = provider.get_backend('ibmq_qasm_simulator')\n",
    "# job = execute(qc, backend=backend, shots=8000, seed_simulator=12345, backend_options={\"fusion_enable\":True})\n",
    "result = job.result()\n",
    "count = result.get_counts()\n",
    "print(count)"
   ]
  },
  {
   "cell_type": "markdown",
   "metadata": {},
   "source": [
    "If we re-run the above cell we randomly get the value `0` and `1`. We've created a random number generator!"
   ]
  },
  {
   "cell_type": "markdown",
   "metadata": {},
   "source": [
    "# Grover's algorithm for 4 qubits (ex: finding the entry 1010)"
   ]
  },
  {
   "cell_type": "markdown",
   "metadata": {},
   "source": [
    "## Building our circuit and equal superposition initialization\n",
    "\n",
    "Let's build our circuit with 7 qubits \n",
    "* 4 qubits for input\n",
    "* 1 qubit for storing the |-> state\n",
    "* 2 ancilla qubits (as will be explained bellow)\n",
    "\n",
    "And our answer will be stored in a classical register of size 4 \n",
    "\n",
    "Further, we intialize our input in an equal superposition of all possible states"
   ]
  },
  {
   "cell_type": "code",
   "execution_count": 19,
   "metadata": {},
   "outputs": [],
   "source": [
    "q = QuantumRegister(7)\n",
    "c = ClassicalRegister(4)\n",
    "qc = QuantumCircuit(q, c)"
   ]
  },
  {
   "cell_type": "code",
   "execution_count": 20,
   "metadata": {},
   "outputs": [
    {
     "data": {
      "text/plain": [
       "<qiskit.circuit.instructionset.InstructionSet at 0x144758310>"
      ]
     },
     "execution_count": 20,
     "metadata": {},
     "output_type": "execute_result"
    }
   ],
   "source": [
    "# initialize in a superposition of all possible states \n",
    "qc.x(q[4])\n",
    "qc.h(q[0:5])\n",
    "qc.barrier(q)"
   ]
  },
  {
   "cell_type": "markdown",
   "metadata": {},
   "source": [
    "## Complete circuit diagram\n",
    "source: wikipedia"
   ]
  },
  {
   "attachments": {
    "grovers_algo.png": {
     "image/png": "[encoded data removed]"
    }
   },
   "cell_type": "markdown",
   "metadata": {},
   "source": [
    "![grovers_algo.png](attachment:grovers_algo.png)"
   ]
  },
  {
   "cell_type": "markdown",
   "metadata": {},
   "source": [
    "## Let's build the required oracle \n",
    "\n",
    "As an example I have built an oracle which check for the state |1010>\n",
    "\n",
    "The gate named as \"mct\" is a Multi CNOT gate similar to a generalized CNOT discussed in class. here is it's documentation: https://qiskit.org/documentation/api/qiskit.aqua.circuits.gates.mct.html\n",
    "\n",
    "We have to use a few ancilla qubits as which tend to follow the rule of \"n-2\" where \"n\" is the number of control qubits being used. we need 4 control qubits so we require 2 ancilla qubits. \n",
    "\n",
    "Another set of gates being used below are U1, U2 and U3. These are the physical gates that are implementatable on real hardware being provided by IBM Q services. Page 4 of https://arxiv.org/pdf/1807.01703.pdf paper has unitary matrix representation of these gates for your reference. "
   ]
  },
  {
   "cell_type": "code",
   "execution_count": 21,
   "metadata": {},
   "outputs": [
    {
     "data": {
      "text/plain": [
       "<qiskit.circuit.instructionset.InstructionSet at 0x1447e8610>"
      ]
     },
     "execution_count": 21,
     "metadata": {},
     "output_type": "execute_result"
    }
   ],
   "source": [
    "qc.barrier(q)\n",
    "\n",
    "# build oracle. ex: to find 1010 state\n",
    "qc.x(q[1])\n",
    "qc.x(q[3])\n",
    "qc.barrier(q)\n",
    "qc.mct([q[0], q[1], q[2], q[3]], q[4], q[5:7])    # control qubits, target qubit, ancilla qubits = number of control qubits - 2\n",
    "qc.barrier(q)\n",
    "qc.x(q[1])\n",
    "qc.x(q[3])\n",
    "\n",
    "qc.barrier(q)"
   ]
  },
  {
   "cell_type": "markdown",
   "metadata": {},
   "source": [
    "## Amplitude Amplification (Diffusion Operator)\n",
    "\n",
    "this is equivalent to flip about the mean operation geometrically. Also known as the amplitude amplification step as we are increasing the amplitudes(probability) of the entries that we flipped(gave a - phase to) in the previou step while applying our oracle. "
   ]
  },
  {
   "cell_type": "code",
   "execution_count": 22,
   "metadata": {},
   "outputs": [
    {
     "data": {
      "text/plain": [
       "<qiskit.circuit.instructionset.InstructionSet at 0x1447f1220>"
      ]
     },
     "execution_count": 22,
     "metadata": {},
     "output_type": "execute_result"
    }
   ],
   "source": [
    "qc.barrier(q)\n",
    "qc.h(q[0:4])\n",
    "qc.barrier(q)\n",
    "qc.x(q[0:4])\n",
    "qc.barrier(q)\n",
    "qc.h(q[3])\n",
    "qc.barrier(q)\n",
    "qc.mct([q[0], q[1], q[2]], q[3], q[5:6])   \n",
    "qc.barrier(q)\n",
    "qc.h(q[3])\n",
    "qc.barrier(q)\n",
    "qc.x(q[0:4])\n",
    "qc.barrier(q)\n",
    "qc.h(q[0:4])\n",
    "qc.barrier(q)\n"
   ]
  },
  {
   "cell_type": "code",
   "execution_count": 23,
   "metadata": {},
   "outputs": [
    {
     "data": {
      "text/plain": [
       "<qiskit.circuit.instructionset.InstructionSet at 0x144758ca0>"
      ]
     },
     "execution_count": 23,
     "metadata": {},
     "output_type": "execute_result"
    }
   ],
   "source": [
    "qc.measure(q[0:4], c[0:4])"
   ]
  },
  {
   "cell_type": "code",
   "execution_count": 24,
   "metadata": {},
   "outputs": [
    {
     "data": {
      "text/html": [
       "<pre style=\"word-wrap: normal;white-space: pre;background: #fff0;line-height: 1.1;font-family: &quot;Courier New&quot;,Courier,monospace\">       ┌───┐      ░  ░       ░       ░       ░  ░ ┌───┐ ░ ┌───┐ ░       ░      »\n",
       "q17_0: ┤ H ├──────░──░───────░───■───░───────░──░─┤ H ├─░─┤ X ├─░───────░───■──»\n",
       "       ├───┤      ░  ░ ┌───┐ ░   │   ░ ┌───┐ ░  ░ ├───┤ ░ ├───┤ ░       ░   │  »\n",
       "q17_1: ┤ H ├──────░──░─┤ X ├─░───■───░─┤ X ├─░──░─┤ H ├─░─┤ X ├─░───────░───■──»\n",
       "       ├───┤      ░  ░ └───┘ ░   │   ░ └───┘ ░  ░ ├───┤ ░ ├───┤ ░       ░   │  »\n",
       "q17_2: ┤ H ├──────░──░───────░───■───░───────░──░─┤ H ├─░─┤ X ├─░───────░───■──»\n",
       "       ├───┤      ░  ░ ┌───┐ ░   │   ░ ┌───┐ ░  ░ ├───┤ ░ ├───┤ ░ ┌───┐ ░ ┌─┴─┐»\n",
       "q17_3: ┤ H ├──────░──░─┤ X ├─░───■───░─┤ X ├─░──░─┤ H ├─░─┤ X ├─░─┤ H ├─░─┤ X ├»\n",
       "       ├───┤┌───┐ ░  ░ └───┘ ░ ┌─┴─┐ ░ └───┘ ░  ░ └───┘ ░ └───┘ ░ └───┘ ░ └───┘»\n",
       "q17_4: ┤ X ├┤ H ├─░──░───────░─┤ X ├─░───────░──░───────░───────░───────░──────»\n",
       "       └───┘└───┘ ░  ░       ░ └───┘ ░       ░  ░       ░       ░       ░      »\n",
       "q17_5: ───────────░──░───────░───────░───────░──░───────░───────░───────░──────»\n",
       "                  ░  ░       ░       ░       ░  ░       ░       ░       ░      »\n",
       "q17_6: ───────────░──░───────░───────░───────░──░───────░───────░───────░──────»\n",
       "                  ░  ░       ░       ░       ░  ░       ░       ░       ░      »\n",
       " c3: 4/════════════════════════════════════════════════════════════════════════»\n",
       "                                                                               »\n",
       "«        ░       ░ ┌───┐ ░ ┌───┐ ░ ┌─┐         \n",
       "«q17_0: ─░───────░─┤ X ├─░─┤ H ├─░─┤M├─────────\n",
       "«        ░       ░ ├───┤ ░ ├───┤ ░ └╥┘┌─┐      \n",
       "«q17_1: ─░───────░─┤ X ├─░─┤ H ├─░──╫─┤M├──────\n",
       "«        ░       ░ ├───┤ ░ ├───┤ ░  ║ └╥┘┌─┐   \n",
       "«q17_2: ─░───────░─┤ X ├─░─┤ H ├─░──╫──╫─┤M├───\n",
       "«        ░ ┌───┐ ░ ├───┤ ░ ├───┤ ░  ║  ║ └╥┘┌─┐\n",
       "«q17_3: ─░─┤ H ├─░─┤ X ├─░─┤ H ├─░──╫──╫──╫─┤M├\n",
       "«        ░ └───┘ ░ └───┘ ░ └───┘ ░  ║  ║  ║ └╥┘\n",
       "«q17_4: ─░───────░───────░───────░──╫──╫──╫──╫─\n",
       "«        ░       ░       ░       ░  ║  ║  ║  ║ \n",
       "«q17_5: ─░───────░───────░───────░──╫──╫──╫──╫─\n",
       "«        ░       ░       ░       ░  ║  ║  ║  ║ \n",
       "«q17_6: ─░───────░───────░───────░──╫──╫──╫──╫─\n",
       "«        ░       ░       ░       ░  ║  ║  ║  ║ \n",
       "« c3: 4/════════════════════════════╩══╩══╩══╩═\n",
       "«                                   0  1  2  3 </pre>"
      ],
      "text/plain": [
       "       ┌───┐      ░  ░       ░       ░       ░  ░ ┌───┐ ░ ┌───┐ ░       ░      »\n",
       "q17_0: ┤ H ├──────░──░───────░───■───░───────░──░─┤ H ├─░─┤ X ├─░───────░───■──»\n",
       "       ├───┤      ░  ░ ┌───┐ ░   │   ░ ┌───┐ ░  ░ ├───┤ ░ ├───┤ ░       ░   │  »\n",
       "q17_1: ┤ H ├──────░──░─┤ X ├─░───■───░─┤ X ├─░──░─┤ H ├─░─┤ X ├─░───────░───■──»\n",
       "       ├───┤      ░  ░ └───┘ ░   │   ░ └───┘ ░  ░ ├───┤ ░ ├───┤ ░       ░   │  »\n",
       "q17_2: ┤ H ├──────░──░───────░───■───░───────░──░─┤ H ├─░─┤ X ├─░───────░───■──»\n",
       "       ├───┤      ░  ░ ┌───┐ ░   │   ░ ┌───┐ ░  ░ ├───┤ ░ ├───┤ ░ ┌───┐ ░ ┌─┴─┐»\n",
       "q17_3: ┤ H ├──────░──░─┤ X ├─░───■───░─┤ X ├─░──░─┤ H ├─░─┤ X ├─░─┤ H ├─░─┤ X ├»\n",
       "       ├───┤┌───┐ ░  ░ └───┘ ░ ┌─┴─┐ ░ └───┘ ░  ░ └───┘ ░ └───┘ ░ └───┘ ░ └───┘»\n",
       "q17_4: ┤ X ├┤ H ├─░──░───────░─┤ X ├─░───────░──░───────░───────░───────░──────»\n",
       "       └───┘└───┘ ░  ░       ░ └───┘ ░       ░  ░       ░       ░       ░      »\n",
       "q17_5: ───────────░──░───────░───────░───────░──░───────░───────░───────░──────»\n",
       "                  ░  ░       ░       ░       ░  ░       ░       ░       ░      »\n",
       "q17_6: ───────────░──░───────░───────░───────░──░───────░───────░───────░──────»\n",
       "                  ░  ░       ░       ░       ░  ░       ░       ░       ░      »\n",
       " c3: 4/════════════════════════════════════════════════════════════════════════»\n",
       "                                                                               »\n",
       "«        ░       ░ ┌───┐ ░ ┌───┐ ░ ┌─┐         \n",
       "«q17_0: ─░───────░─┤ X ├─░─┤ H ├─░─┤M├─────────\n",
       "«        ░       ░ ├───┤ ░ ├───┤ ░ └╥┘┌─┐      \n",
       "«q17_1: ─░───────░─┤ X ├─░─┤ H ├─░──╫─┤M├──────\n",
       "«        ░       ░ ├───┤ ░ ├───┤ ░  ║ └╥┘┌─┐   \n",
       "«q17_2: ─░───────░─┤ X ├─░─┤ H ├─░──╫──╫─┤M├───\n",
       "«        ░ ┌───┐ ░ ├───┤ ░ ├───┤ ░  ║  ║ └╥┘┌─┐\n",
       "«q17_3: ─░─┤ H ├─░─┤ X ├─░─┤ H ├─░──╫──╫──╫─┤M├\n",
       "«        ░ └───┘ ░ └───┘ ░ └───┘ ░  ║  ║  ║ └╥┘\n",
       "«q17_4: ─░───────░───────░───────░──╫──╫──╫──╫─\n",
       "«        ░       ░       ░       ░  ║  ║  ║  ║ \n",
       "«q17_5: ─░───────░───────░───────░──╫──╫──╫──╫─\n",
       "«        ░       ░       ░       ░  ║  ║  ║  ║ \n",
       "«q17_6: ─░───────░───────░───────░──╫──╫──╫──╫─\n",
       "«        ░       ░       ░       ░  ║  ║  ║  ║ \n",
       "« c3: 4/════════════════════════════╩══╩══╩══╩═\n",
       "«                                   0  1  2  3 "
      ]
     },
     "execution_count": 24,
     "metadata": {},
     "output_type": "execute_result"
    }
   ],
   "source": [
    "qc.draw()\n",
    "\n",
    "# in the output drawing "
   ]
  },
  {
   "cell_type": "markdown",
   "metadata": {},
   "source": [
    "In case you would like to learn more about how the `mct()` gate, i.e, the multiple controlled toffoli gate is decomposed you can check out section [this](https://arxiv.org/pdf/quant-ph/9503016.pdf) paper "
   ]
  },
  {
   "cell_type": "markdown",
   "metadata": {},
   "source": [
    "## Checking our results after running it on a simulator\n",
    "\n",
    "Note that we have not yet used a real quantum computer as they as noisy. We could however do so by changing our provider from 'ibmq_qasm_simulator' to the hardware backend you like. "
   ]
  },
  {
   "cell_type": "code",
   "execution_count": 25,
   "metadata": {},
   "outputs": [
    {
     "name": "stdout",
     "output_type": "stream",
     "text": [
      "{'0000': 39, '0001': 30, '0010': 22, '0011': 30, '0100': 37, '0101': 481, '0110': 32, '0111': 33, '1000': 34, '1001': 46, '1010': 41, '1011': 41, '1100': 28, '1101': 39, '1110': 33, '1111': 34}\n"
     ]
    }
   ],
   "source": [
    "# running and getting results \n",
    "\n",
    "backend = Aer.get_backend('qasm_simulator')\n",
    "job = execute(qc, backend, shots=1000)\n",
    "# backend = provider.get_backend('ibmq_qasm_simulator')\n",
    "# job = execute(qc, backend=backend, shots=8000, seed_simulator=12345, backend_options={\"fusion_enable\":True})\n",
    "result = job.result()\n",
    "count = result.get_counts()\n",
    "print(count)"
   ]
  },
  {
   "cell_type": "code",
   "execution_count": 26,
   "metadata": {},
   "outputs": [],
   "source": [
    "# the code snippet below can be used to retreive your job in case your jupyter notebook loses connection with IBMQ servers before completion of the job\n",
    "\n",
    "# backend = provider.get_backend('ibmq_qasm_simulator')\n",
    "# job = backend.retrieve_job('enter your job id here. it can be found in your IBM Q Experience dashboard')\n",
    "# counts = job.result().get_counts()\n",
    "# print(counts)"
   ]
  },
  {
   "cell_type": "code",
   "execution_count": 27,
   "metadata": {},
   "outputs": [
    {
     "data": {
      "image/png": "[encoded data removed]",
      "text/plain": [
       "<Figure size 504x360 with 1 Axes>"
      ]
     },
     "execution_count": 27,
     "metadata": {},
     "output_type": "execute_result"
    }
   ],
   "source": [
    "plot_histogram(count)\n",
    "\n",
    "# the answer may seem inverted, i.e, 0101 is actually state 1010. that's just the notation used by qiskit."
   ]
  },
  {
   "cell_type": "markdown",
   "metadata": {},
   "source": [
    "We can see that the entry 1010 has a higher probability of appearing as compared to all the other entries. Note that we have only done the grover method once and yet got a decent answer. I encourage you to try and iterate this method multiple times to see the increase or decrease in probability. For a larger qubit number we may have to do this multiple times to get a decent probability. "
   ]
  },
  {
   "cell_type": "markdown",
   "metadata": {},
   "source": [
    "However, if you cross a certain number of iterations the amplitude of the expected states starts to come down again. This is depicted in the link [here](https://www.sciencedirect.com/topics/mathematics/quantum-search-algorithm) through this diagram for 2 and 10 qubits. Thus, the number of iterations $\\sqrt{N}$ is usually a good number to stick to in the case of a single search item. If you are searching for \"m\" items then the number of iterations you'll have to do decreases to $\\sqrt{\\frac{N}{m}}$."
   ]
  },
  {
   "cell_type": "markdown",
   "metadata": {},
   "source": [
    "<img src=\"grov_2_10.png\" width=\"400px\">"
   ]
  },
  {
   "cell_type": "markdown",
   "metadata": {},
   "source": [
    "### Next Steps? \n",
    "\n",
    "Now that we've learnt this algorithm, what types of problems can we tackle? The bet way to learn this is by trying it out yourself. Here are two challenges which are based on Grover's algorithm: \n",
    "\n",
    "* [Qiskit Challenge 2019](https://github.com/quantum-challenge/2019/blob/master/problems/final/Final_en.ipynb)      \n",
    "* [Qiskit Challenge 2020](https://github.com/qiskit-community/IBMQuantumChallenge2020)\n",
    "\n",
    "Good luck!\n",
    "\n",
    "Here are a few resources to help you guys out with the problems: \n",
    "* [Qiskit Textbook - Grover's algorithm](https://qiskit.org/textbook/ch-algorithms/grover.html)   \n",
    "* [Textbook chapter 6.4] - Quantum Computing for Computer Scientists (Noson S. Yanofsky, Mirco A. Mannucci)   \n",
    "* Each of these challenges have their own reading material in their respective Github repos as well \n",
    "\n",
    "Once you've solved these problems and are now comfortable with one specific algorithm its time to learn more algorithms from the Qiskit Textbook and possibly start a small project of your own! For project ideas you can check out some of the projects at the recent [Qiskit Korea Hackathon](https://github.com/qiskit-community/qiskit-hackathon-korea-21). You can find them in the `Issues` tab. \n",
    "\n",
    "If you're interested in understanding how to design a build qubits at the lowest level, delving into the newly open-sourced [**Qiskit Metal**](https://qiskit.org/metal/) would be the way to go. \n",
    "\n",
    "If you would like to understand how to interact with these qubits at the lowest level of pulses and understand how gates are actually applied, you can read up on **Qiskit Pulse** from [Chapter 6.1 of the Qiskit Textbook](https://qiskit.org/textbook/ch-quantum-hardware/calibrating-qubits-pulse.html). "
   ]
  }
 ],
 "metadata": {
  "kernelspec": {
   "display_name": "Python 3",
   "language": "python",
   "name": "python3"
  },
  "language_info": {
   "codemirror_mode": {
    "name": "ipython",
    "version": 3
   },
   "file_extension": ".py",
   "mimetype": "text/x-python",
   "name": "python",
   "nbconvert_exporter": "python",
   "pygments_lexer": "ipython3",
   "version": "3.8.2"
  }
 },
 "nbformat": 4,
 "nbformat_minor": 4
}
